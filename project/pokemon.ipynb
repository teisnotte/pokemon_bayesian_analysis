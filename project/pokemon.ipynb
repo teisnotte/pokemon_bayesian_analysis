{
 "cells": [
  {
   "cell_type": "code",
   "execution_count": null,
   "id": "d1f7e914",
   "metadata": {},
   "outputs": [],
   "source": [
    "import arviz as az\n",
    "import os\n",
    "\n",
    "os.environ[\"JAX_ENABLE_X64\"] = \"1\"\n",
    "\n",
    "import jax\n",
    "import jax.numpy as jnp\n",
    "import polars as pl\n",
    "import numpy as np\n",
    "import bambi as bmb"
   ]
  },
  {
   "cell_type": "code",
   "execution_count": 6,
   "id": "49288b49",
   "metadata": {},
   "outputs": [
    {
     "data": {
      "text/plain": [
       "'/Users/techen/biosustain/course/bayesian_statistics/projects/bayesian_statistics_for_computational_biology/project'"
      ]
     },
     "execution_count": 6,
     "metadata": {},
     "output_type": "execute_result"
    }
   ],
   "source": [
    "os.getcwd()"
   ]
  },
  {
   "cell_type": "code",
   "execution_count": 16,
   "id": "786e7229",
   "metadata": {},
   "outputs": [
    {
     "data": {
      "text/html": [
       "<div><style>\n",
       ".dataframe > thead > tr,\n",
       ".dataframe > tbody > tr {\n",
       "  text-align: right;\n",
       "  white-space: pre-wrap;\n",
       "}\n",
       "</style>\n",
       "<small>shape: (5, 10)</small><table border=\"1\" class=\"dataframe\"><thead><tr><th></th><th>Name</th><th>Primary Typing</th><th>Secondary Typing</th><th>Health</th><th>Attack</th><th>Defense</th><th>Special Attack</th><th>Special Defense</th><th>Speed</th></tr><tr><td>i64</td><td>str</td><td>str</td><td>str</td><td>i64</td><td>i64</td><td>i64</td><td>i64</td><td>i64</td><td>i64</td></tr></thead><tbody><tr><td>206</td><td>&quot;chikorita&quot;</td><td>&quot;grass&quot;</td><td>null</td><td>45</td><td>49</td><td>65</td><td>49</td><td>65</td><td>45</td></tr><tr><td>207</td><td>&quot;bayleef&quot;</td><td>&quot;grass&quot;</td><td>null</td><td>60</td><td>62</td><td>80</td><td>63</td><td>80</td><td>60</td></tr><tr><td>208</td><td>&quot;meganium&quot;</td><td>&quot;grass&quot;</td><td>null</td><td>80</td><td>82</td><td>100</td><td>83</td><td>100</td><td>80</td></tr><tr><td>209</td><td>&quot;cyndaquil&quot;</td><td>&quot;fire&quot;</td><td>null</td><td>39</td><td>52</td><td>43</td><td>60</td><td>50</td><td>65</td></tr><tr><td>210</td><td>&quot;quilava&quot;</td><td>&quot;fire&quot;</td><td>null</td><td>58</td><td>64</td><td>58</td><td>80</td><td>65</td><td>80</td></tr></tbody></table></div>"
      ],
      "text/plain": [
       "shape: (5, 10)\n",
       "┌─────┬───────────┬─────────┬───────────┬───┬─────────┬──────────────────┬─────────────────┬───────┐\n",
       "│     ┆ Name      ┆ Primary ┆ Secondary ┆ … ┆ Defense ┆ Special Attack   ┆ Special Defense ┆ Speed │\n",
       "│ --- ┆ ---       ┆ Typing  ┆ Typing    ┆   ┆ ---     ┆ ---              ┆ ---             ┆ ---   │\n",
       "│ i64 ┆ str       ┆ ---     ┆ ---       ┆   ┆ i64     ┆ i64              ┆ i64             ┆ i64   │\n",
       "│     ┆           ┆ str     ┆ str       ┆   ┆         ┆                  ┆                 ┆       │\n",
       "╞═════╪═══════════╪═════════╪═══════════╪═══╪═════════╪══════════════════╪═════════════════╪═══════╡\n",
       "│ 206 ┆ chikorita ┆ grass   ┆ null      ┆ … ┆ 65      ┆ 49               ┆ 65              ┆ 45    │\n",
       "│ 207 ┆ bayleef   ┆ grass   ┆ null      ┆ … ┆ 80      ┆ 63               ┆ 80              ┆ 60    │\n",
       "│ 208 ┆ meganium  ┆ grass   ┆ null      ┆ … ┆ 100     ┆ 83               ┆ 100             ┆ 80    │\n",
       "│ 209 ┆ cyndaquil ┆ fire    ┆ null      ┆ … ┆ 43      ┆ 60               ┆ 50              ┆ 65    │\n",
       "│ 210 ┆ quilava   ┆ fire    ┆ null      ┆ … ┆ 58      ┆ 80               ┆ 65              ┆ 80    │\n",
       "└─────┴───────────┴─────────┴───────────┴───┴─────────┴──────────────────┴─────────────────┴───────┘"
      ]
     },
     "execution_count": 16,
     "metadata": {},
     "output_type": "execute_result"
    }
   ],
   "source": [
    "data = pl.read_csv(\"./data/6-Pokemon_gen2.csv\")\n",
    "data.head()"
   ]
  },
  {
   "cell_type": "code",
   "execution_count": 17,
   "id": "c847e1c0",
   "metadata": {},
   "outputs": [
    {
     "data": {
      "text/html": [
       "<div><style>\n",
       ".dataframe > thead > tr,\n",
       ".dataframe > tbody > tr {\n",
       "  text-align: right;\n",
       "  white-space: pre-wrap;\n",
       "}\n",
       "</style>\n",
       "<small>shape: (112, 3)</small><table border=\"1\" class=\"dataframe\"><thead><tr><th>Name</th><th>Health</th><th>Attack</th></tr><tr><td>str</td><td>i64</td><td>i64</td></tr></thead><tbody><tr><td>&quot;chikorita&quot;</td><td>45</td><td>49</td></tr><tr><td>&quot;bayleef&quot;</td><td>60</td><td>62</td></tr><tr><td>&quot;meganium&quot;</td><td>80</td><td>82</td></tr><tr><td>&quot;cyndaquil&quot;</td><td>39</td><td>52</td></tr><tr><td>&quot;quilava&quot;</td><td>58</td><td>64</td></tr><tr><td>&hellip;</td><td>&hellip;</td><td>&hellip;</td></tr><tr><td>&quot;tyranitar&quot;</td><td>100</td><td>134</td></tr><tr><td>&quot;tyranitar-mega&quot;</td><td>100</td><td>164</td></tr><tr><td>&quot;lugia&quot;</td><td>106</td><td>90</td></tr><tr><td>&quot;ho-oh&quot;</td><td>106</td><td>130</td></tr><tr><td>&quot;celebi&quot;</td><td>100</td><td>100</td></tr></tbody></table></div>"
      ],
      "text/plain": [
       "shape: (112, 3)\n",
       "┌────────────────┬────────┬────────┐\n",
       "│ Name           ┆ Health ┆ Attack │\n",
       "│ ---            ┆ ---    ┆ ---    │\n",
       "│ str            ┆ i64    ┆ i64    │\n",
       "╞════════════════╪════════╪════════╡\n",
       "│ chikorita      ┆ 45     ┆ 49     │\n",
       "│ bayleef        ┆ 60     ┆ 62     │\n",
       "│ meganium       ┆ 80     ┆ 82     │\n",
       "│ cyndaquil      ┆ 39     ┆ 52     │\n",
       "│ quilava        ┆ 58     ┆ 64     │\n",
       "│ …              ┆ …      ┆ …      │\n",
       "│ tyranitar      ┆ 100    ┆ 134    │\n",
       "│ tyranitar-mega ┆ 100    ┆ 164    │\n",
       "│ lugia          ┆ 106    ┆ 90     │\n",
       "│ ho-oh          ┆ 106    ┆ 130    │\n",
       "│ celebi         ┆ 100    ┆ 100    │\n",
       "└────────────────┴────────┴────────┘"
      ]
     },
     "execution_count": 17,
     "metadata": {},
     "output_type": "execute_result"
    }
   ],
   "source": [
    "data.select(\n",
    "    [\n",
    "        pl.col(\"Name\"),\n",
    "        pl.col(\"Health\"),\n",
    "        pl.col(\"Attack\"),]\n",
    ")"
   ]
  },
  {
   "cell_type": "code",
   "execution_count": 27,
   "id": "55984ba7",
   "metadata": {},
   "outputs": [
    {
     "name": "stderr",
     "output_type": "stream",
     "text": [
      "/var/folders/rm/0tp2_wjs4hl3t3t2bgrztxbr0000gp/T/ipykernel_43790/2422304245.py:17: MapWithoutReturnDtypeWarning: Calling `map_elements` without specifying `return_dtype` can lead to unpredictable results. Specify `return_dtype` to silence this warning.\n",
      "  clr_data = data.with_columns(\n"
     ]
    }
   ],
   "source": [
    "def clr_transform(row: dict) -> list[float]:\n",
    "    values = list(row.values())\n",
    "    log_stats = np.log(values)\n",
    "    geometric_mean = np.mean(log_stats)\n",
    "    return list(log_stats - geometric_mean)\n",
    "\n",
    "old_col = [\n",
    "    'Health', 'Attack', 'Defense',\n",
    "    'Special Attack', 'Special Defense', 'Speed'\n",
    "]\n",
    "\n",
    "new_col = [\n",
    "        'clr_Health', 'clr_Attack', 'clr_Defense',\n",
    "        'clr_Special_Attack', 'clr_Special_Defense', 'clr_Speed'\n",
    "    ]\n",
    "\n",
    "clr_data = data.with_columns(\n",
    "    pl.struct(old_col)\n",
    "    .map_elements(clr_transform)\n",
    "    .alias('clr_stats')\n",
    ")\n",
    "\n",
    "clr_data = clr_data.with_columns(\n",
    "    pl.col('clr_stats').list.to_struct(fields=new_col)\n",
    ").unnest('clr_stats')"
   ]
  },
  {
   "cell_type": "code",
   "execution_count": null,
   "id": "7e39ec3a",
   "metadata": {},
   "outputs": [
    {
     "data": {
      "text/html": [
       "<div><style>\n",
       ".dataframe > thead > tr,\n",
       ".dataframe > tbody > tr {\n",
       "  text-align: right;\n",
       "  white-space: pre-wrap;\n",
       "}\n",
       "</style>\n",
       "<small>shape: (112, 16)</small><table border=\"1\" class=\"dataframe\"><thead><tr><th></th><th>Name</th><th>Primary Typing</th><th>Secondary Typing</th><th>Health</th><th>Attack</th><th>Defense</th><th>Special Attack</th><th>Special Defense</th><th>Speed</th><th>clr_Health</th><th>clr_Attack</th><th>clr_Defense</th><th>clr_Special_Attack</th><th>clr_Special_Defense</th><th>clr_Speed</th></tr><tr><td>i64</td><td>str</td><td>str</td><td>str</td><td>i64</td><td>i64</td><td>i64</td><td>i64</td><td>i64</td><td>i64</td><td>f64</td><td>f64</td><td>f64</td><td>f64</td><td>f64</td><td>f64</td></tr></thead><tbody><tr><td>206</td><td>&quot;chikorita&quot;</td><td>&quot;grass&quot;</td><td>null</td><td>45</td><td>49</td><td>65</td><td>49</td><td>65</td><td>45</td><td>-0.150961</td><td>-0.065803</td><td>0.216764</td><td>-0.065803</td><td>0.216764</td><td>-0.150961</td></tr><tr><td>207</td><td>&quot;bayleef&quot;</td><td>&quot;grass&quot;</td><td>null</td><td>60</td><td>62</td><td>80</td><td>63</td><td>80</td><td>60</td><td>-0.109491</td><td>-0.076701</td><td>0.178191</td><td>-0.060701</td><td>0.178191</td><td>-0.109491</td></tr><tr><td>208</td><td>&quot;meganium&quot;</td><td>&quot;grass&quot;</td><td>null</td><td>80</td><td>82</td><td>100</td><td>83</td><td>100</td><td>80</td><td>-0.084632</td><td>-0.05994</td><td>0.138511</td><td>-0.047818</td><td>0.138511</td><td>-0.084632</td></tr><tr><td>209</td><td>&quot;cyndaquil&quot;</td><td>&quot;fire&quot;</td><td>null</td><td>39</td><td>52</td><td>43</td><td>60</td><td>50</td><td>65</td><td>-0.262565</td><td>0.025117</td><td>-0.164927</td><td>0.168218</td><td>-0.014104</td><td>0.248261</td></tr><tr><td>210</td><td>&quot;quilava&quot;</td><td>&quot;fire&quot;</td><td>null</td><td>58</td><td>64</td><td>58</td><td>80</td><td>65</td><td>80</td><td>-0.142592</td><td>-0.044152</td><td>-0.142592</td><td>0.178992</td><td>-0.028648</td><td>0.178992</td></tr><tr><td>&hellip;</td><td>&hellip;</td><td>&hellip;</td><td>&hellip;</td><td>&hellip;</td><td>&hellip;</td><td>&hellip;</td><td>&hellip;</td><td>&hellip;</td><td>&hellip;</td><td>&hellip;</td><td>&hellip;</td><td>&hellip;</td><td>&hellip;</td><td>&hellip;</td><td>&hellip;</td></tr><tr><td>313</td><td>&quot;tyranitar&quot;</td><td>&quot;rock&quot;</td><td>&quot;dark&quot;</td><td>100</td><td>134</td><td>110</td><td>95</td><td>100</td><td>61</td><td>0.026268</td><td>0.318938</td><td>0.121578</td><td>-0.025025</td><td>0.026268</td><td>-0.468028</td></tr><tr><td>314</td><td>&quot;tyranitar-mega&quot;</td><td>&quot;rock&quot;</td><td>&quot;dark&quot;</td><td>100</td><td>164</td><td>150</td><td>95</td><td>120</td><td>71</td><td>-0.114783</td><td>0.379913</td><td>0.290682</td><td>-0.166077</td><td>0.067538</td><td>-0.457274</td></tr><tr><td>315</td><td>&quot;lugia&quot;</td><td>&quot;psychic&quot;</td><td>&quot;flying&quot;</td><td>106</td><td>90</td><td>130</td><td>90</td><td>154</td><td>110</td><td>-0.047899</td><td>-0.211528</td><td>0.156197</td><td>-0.211528</td><td>0.325615</td><td>-0.010857</td></tr><tr><td>316</td><td>&quot;ho-oh&quot;</td><td>&quot;fire&quot;</td><td>&quot;flying&quot;</td><td>106</td><td>130</td><td>90</td><td>110</td><td>154</td><td>90</td><td>-0.047899</td><td>0.156197</td><td>-0.211528</td><td>-0.010857</td><td>0.325615</td><td>-0.211528</td></tr><tr><td>317</td><td>&quot;celebi&quot;</td><td>&quot;psychic&quot;</td><td>&quot;grass&quot;</td><td>100</td><td>100</td><td>100</td><td>100</td><td>100</td><td>100</td><td>-8.8818e-16</td><td>-8.8818e-16</td><td>-8.8818e-16</td><td>-8.8818e-16</td><td>-8.8818e-16</td><td>-8.8818e-16</td></tr></tbody></table></div>"
      ],
      "text/plain": [
       "shape: (112, 16)\n",
       "┌─────┬────────────┬────────────┬────────────┬───┬────────────┬────────────┬───────────┬───────────┐\n",
       "│     ┆ Name       ┆ Primary    ┆ Secondary  ┆ … ┆ clr_Defens ┆ clr_Specia ┆ clr_Speci ┆ clr_Speed │\n",
       "│ --- ┆ ---        ┆ Typing     ┆ Typing     ┆   ┆ e          ┆ l_Attack   ┆ al_Defens ┆ ---       │\n",
       "│ i64 ┆ str        ┆ ---        ┆ ---        ┆   ┆ ---        ┆ ---        ┆ e         ┆ f64       │\n",
       "│     ┆            ┆ str        ┆ str        ┆   ┆ f64        ┆ f64        ┆ ---       ┆           │\n",
       "│     ┆            ┆            ┆            ┆   ┆            ┆            ┆ f64       ┆           │\n",
       "╞═════╪════════════╪════════════╪════════════╪═══╪════════════╪════════════╪═══════════╪═══════════╡\n",
       "│ 206 ┆ chikorita  ┆ grass      ┆ null       ┆ … ┆ 0.216764   ┆ -0.065803  ┆ 0.216764  ┆ -0.150961 │\n",
       "│ 207 ┆ bayleef    ┆ grass      ┆ null       ┆ … ┆ 0.178191   ┆ -0.060701  ┆ 0.178191  ┆ -0.109491 │\n",
       "│ 208 ┆ meganium   ┆ grass      ┆ null       ┆ … ┆ 0.138511   ┆ -0.047818  ┆ 0.138511  ┆ -0.084632 │\n",
       "│ 209 ┆ cyndaquil  ┆ fire       ┆ null       ┆ … ┆ -0.164927  ┆ 0.168218   ┆ -0.014104 ┆ 0.248261  │\n",
       "│ 210 ┆ quilava    ┆ fire       ┆ null       ┆ … ┆ -0.142592  ┆ 0.178992   ┆ -0.028648 ┆ 0.178992  │\n",
       "│ …   ┆ …          ┆ …          ┆ …          ┆ … ┆ …          ┆ …          ┆ …         ┆ …         │\n",
       "│ 313 ┆ tyranitar  ┆ rock       ┆ dark       ┆ … ┆ 0.121578   ┆ -0.025025  ┆ 0.026268  ┆ -0.468028 │\n",
       "│ 314 ┆ tyranitar- ┆ rock       ┆ dark       ┆ … ┆ 0.290682   ┆ -0.166077  ┆ 0.067538  ┆ -0.457274 │\n",
       "│     ┆ mega       ┆            ┆            ┆   ┆            ┆            ┆           ┆           │\n",
       "│ 315 ┆ lugia      ┆ psychic    ┆ flying     ┆ … ┆ 0.156197   ┆ -0.211528  ┆ 0.325615  ┆ -0.010857 │\n",
       "│ 316 ┆ ho-oh      ┆ fire       ┆ flying     ┆ … ┆ -0.211528  ┆ -0.010857  ┆ 0.325615  ┆ -0.211528 │\n",
       "│ 317 ┆ celebi     ┆ psychic    ┆ grass      ┆ … ┆ -8.8818e-1 ┆ -8.8818e-1 ┆ -8.8818e- ┆ -8.8818e- │\n",
       "│     ┆            ┆            ┆            ┆   ┆ 6          ┆ 6          ┆ 16        ┆ 16        │\n",
       "└─────┴────────────┴────────────┴────────────┴───┴────────────┴────────────┴───────────┴───────────┘"
      ]
     },
     "execution_count": 28,
     "metadata": {},
     "output_type": "execute_result"
    }
   ],
   "source": [
    "clr_data"
   ]
  },
  {
   "cell_type": "code",
   "execution_count": null,
   "id": "f51daf46",
   "metadata": {},
   "outputs": [
    {
     "data": {
      "text/html": [
       "<div><style>\n",
       ".dataframe > thead > tr,\n",
       ".dataframe > tbody > tr {\n",
       "  text-align: right;\n",
       "  white-space: pre-wrap;\n",
       "}\n",
       "</style>\n",
       "<small>shape: (1_680, 3)</small><table border=\"1\" class=\"dataframe\"><thead><tr><th>Name</th><th>variable</th><th>value</th></tr><tr><td>str</td><td>str</td><td>str</td></tr></thead><tbody><tr><td>&quot;chikorita&quot;</td><td>&quot;&quot;</td><td>&quot;206&quot;</td></tr><tr><td>&quot;bayleef&quot;</td><td>&quot;&quot;</td><td>&quot;207&quot;</td></tr><tr><td>&quot;meganium&quot;</td><td>&quot;&quot;</td><td>&quot;208&quot;</td></tr><tr><td>&quot;cyndaquil&quot;</td><td>&quot;&quot;</td><td>&quot;209&quot;</td></tr><tr><td>&quot;quilava&quot;</td><td>&quot;&quot;</td><td>&quot;210&quot;</td></tr><tr><td>&hellip;</td><td>&hellip;</td><td>&hellip;</td></tr><tr><td>&quot;tyranitar&quot;</td><td>&quot;clr_Speed&quot;</td><td>&quot;-0.46802801807558225&quot;</td></tr><tr><td>&quot;tyranitar-mega&quot;</td><td>&quot;clr_Speed&quot;</td><td>&quot;-0.45727352618075834&quot;</td></tr><tr><td>&quot;lugia&quot;</td><td>&quot;clr_Speed&quot;</td><td>&quot;-0.010857276446620823&quot;</td></tr><tr><td>&quot;ho-oh&quot;</td><td>&quot;clr_Speed&quot;</td><td>&quot;-0.21152797190877237&quot;</td></tr><tr><td>&quot;celebi&quot;</td><td>&quot;clr_Speed&quot;</td><td>&quot;-8.881784197001252e-16&quot;</td></tr></tbody></table></div>"
      ],
      "text/plain": [
       "shape: (1_680, 3)\n",
       "┌────────────────┬───────────┬────────────────────────┐\n",
       "│ Name           ┆ variable  ┆ value                  │\n",
       "│ ---            ┆ ---       ┆ ---                    │\n",
       "│ str            ┆ str       ┆ str                    │\n",
       "╞════════════════╪═══════════╪════════════════════════╡\n",
       "│ chikorita      ┆           ┆ 206                    │\n",
       "│ bayleef        ┆           ┆ 207                    │\n",
       "│ meganium       ┆           ┆ 208                    │\n",
       "│ cyndaquil      ┆           ┆ 209                    │\n",
       "│ quilava        ┆           ┆ 210                    │\n",
       "│ …              ┆ …         ┆ …                      │\n",
       "│ tyranitar      ┆ clr_Speed ┆ -0.46802801807558225   │\n",
       "│ tyranitar-mega ┆ clr_Speed ┆ -0.45727352618075834   │\n",
       "│ lugia          ┆ clr_Speed ┆ -0.010857276446620823  │\n",
       "│ ho-oh          ┆ clr_Speed ┆ -0.21152797190877237   │\n",
       "│ celebi         ┆ clr_Speed ┆ -8.881784197001252e-16 │\n",
       "└────────────────┴───────────┴────────────────────────┘"
      ]
     },
     "execution_count": 33,
     "metadata": {},
     "output_type": "execute_result"
    }
   ],
   "source": [
    "clr_data.unpivot(index=[\"Name\"])"
   ]
  },
  {
   "cell_type": "code",
   "execution_count": null,
   "id": "77b0494a",
   "metadata": {},
   "outputs": [],
   "source": []
  }
 ],
 "metadata": {
  "kernelspec": {
   "display_name": "bayesian-statistics-for-computational-biology",
   "language": "python",
   "name": "python3"
  },
  "language_info": {
   "codemirror_mode": {
    "name": "ipython",
    "version": 3
   },
   "file_extension": ".py",
   "mimetype": "text/x-python",
   "name": "python",
   "nbconvert_exporter": "python",
   "pygments_lexer": "ipython3",
   "version": "3.12.11"
  }
 },
 "nbformat": 4,
 "nbformat_minor": 5
}
